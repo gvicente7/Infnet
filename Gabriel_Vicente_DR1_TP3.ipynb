{
  "nbformat": 4,
  "nbformat_minor": 0,
  "metadata": {
    "colab": {
      "name": "Gabriel_Vicente_DR1_TP3",
      "provenance": [],
      "collapsed_sections": []
    },
    "kernelspec": {
      "name": "python3",
      "display_name": "Python 3"
    },
    "language_info": {
      "name": "python"
    }
  },
  "cells": [
    {
      "cell_type": "code",
      "source": [
        "#Questão 1\n",
        "\n",
        "valor_valido = True\n",
        "percentual = 0\n",
        "pessoas = 0\n",
        "conta_total_formatada = \"0,00\"\n",
        "\n",
        "valor = float(input(\"Informe o valor total do consumo: R$ \"))\n",
        "percentual = float(input(\"Informe o percentual do serviço, entre 0 e 100:\"))\n",
        "if percentual >= 0 and percentual <= 100:\n",
        "  pessoas = int(input(\"Informe o total de pessoas:\"))\n",
        "  if pessoas > 0 and valor_valido == True:\n",
        "    conta_total = round(((valor * (percentual/100))+valor),2)\n",
        "    conta = str(round(conta_total/pessoas,2)).replace(\".\",\",\")\n",
        "    conta_total_formatada = str(conta_total).replace(\".\",\",\")\n",
        "    print(f\"O valor total da conta, com a taxa de serviço, será de R$ {conta_total_formatada}\")\n",
        "    print(f\"Dividindo a conta por 2 pessoa(s), cada pessoa deverá pagar R$ {conta}\")\n",
        "  else: print(\"Valor invalido.\")\n",
        "else:\n",
        "  print(\"Valor invalido.\")\n",
        "\n"
      ],
      "metadata": {
        "colab": {
          "base_uri": "https://localhost:8080/"
        },
        "id": "-H8SEjQk-qXL",
        "outputId": "0e9ea7ec-a86a-4c35-8b6f-baf408f1adb6"
      },
      "execution_count": 30,
      "outputs": [
        {
          "output_type": "stream",
          "name": "stdout",
          "text": [
            "Informe o valor total do consumo: R$ 100\n",
            "Informe o percentual do serviço, entre 0 e 100:10\n",
            "Informe o total de pessoas:10\n",
            "O valor total da conta, com a taxa de serviço, será de R$ 110,0\n",
            "Dividindo a conta por 2 pessoa(s), cada pessoa deverá pagar R$ 11,0\n"
          ]
        }
      ]
    },
    {
      "cell_type": "code",
      "source": [
        "#Questão 2\n",
        "\n",
        "idade_valida = True\n",
        "\n",
        "idade = int(input(\"Informe a idade:\"))\n",
        "if (idade >= 16 and idade < 18) or idade > 70:\n",
        "  print(\"Eleitor facultativo\")\n",
        "else:  \n",
        "  if idade >= 18 and idade <=70:\n",
        "      print(\"Eleitor obrigatório\")\n",
        "  else:\n",
        "    if idade < 16 and idade >= 0:\n",
        "      print(\"Não tem direito a voto\") \n",
        "    else:\n",
        "      if idade < 0:\n",
        "        print(\"Idade inválida.\")\n",
        "        "
      ],
      "metadata": {
        "colab": {
          "base_uri": "https://localhost:8080/"
        },
        "id": "GoIgDsKZ_LEy",
        "outputId": "64fb5974-5ba3-4bb5-9166-bc329bda8970"
      },
      "execution_count": 48,
      "outputs": [
        {
          "output_type": "stream",
          "name": "stdout",
          "text": [
            "Informe a idade:0\n",
            "Não tem direito a voto\n"
          ]
        }
      ]
    },
    {
      "cell_type": "code",
      "source": [
        "#Questão 3\n",
        "Nota_valido = True\n",
        "\n",
        "Nome_1 = input(\"Informe nome do 1º participante: \")\n",
        "Nota_1 = float(input(\"Informe nota do 1º participante: \"))\n",
        "if Nota_1 < 0 or Nota_1 > 10:\n",
        "  Nota_valido = False\n",
        "else:\n",
        "  Nome_2 = input(\"Informe nome do 2º participante: \")\n",
        "  Nota_2 = float(input(\"Informe nota do 2º participante: \"))\n",
        "  if Nota_2 < 0 or Nota_2 > 10:\n",
        "    Nota_valido = False\n",
        "  else:\n",
        "    Nome_3 = input(\"Informe nome do 3º participante: \")\n",
        "    Nota_3 = float(input(\"Informe nota do 3º participante: \"))\n",
        "    if Nota_3 < 0 or Nota_3 > 10:\n",
        "      Nota_valido = False\n",
        "    else:\n",
        "      Nome_4 = input(\"Informe nome do 4º participante: \")\n",
        "      Nota_4 = float(input(\"Informe nota do 4º participante: \"))\n",
        "      if Nota_4 < 0 or Nota_4 > 10:\n",
        "        Nota_valido = False\n",
        "      else:\n",
        "        Nome_5 = input(\"Informe nome do 5º participante: \")\n",
        "        Nota_5 = float(input(\"Informe nota do 5º participante: \"))\n",
        "        if Nota_5 < 0 or Nota_5 > 10:\n",
        "          Nota_valido = False\n",
        "\n",
        "\n",
        "if Nota_valido == False:\n",
        "  print(\"Nota inválida.\")\n",
        "else:\n",
        "  if Nota_1 > Nota_2 and Nota_1 > Nota_3 and Nota_1 > Nota_4 and Nota_1 > Nota_5:\n",
        "    print(f\"O(a) vencedor(a) foi {Nome_1} com nota {Nota_1}!\")\n",
        "  else:\n",
        "    if Nota_2 > Nota_1 and Nota_2 > Nota_3 and Nota_2 > Nota_4 and Nota_2 > Nota_5:\n",
        "      print(f\"O(a) vencedor(a) foi {Nome_2} com nota {Nota_2}!\")\n",
        "    else:\n",
        "      if Nota_3 > Nota_2 and Nota_3 > Nota_1 and Nota_3 > Nota_4 and Nota_3 > Nota_5:\n",
        "        print(f\"O(a) vencedor(a) foi {Nome_3} com nota {Nota_3}!\")\n",
        "      else:\n",
        "        if Nota_4 > Nota_2 and Nota_4 > Nota_3 and Nota_4 > Nota_1 and Nota_4 > Nota_5:\n",
        "          print(f\"O(a) vencedor(a) foi {Nome_4} com nota {Nota_4}!\")\n",
        "        else:\n",
        "          print(f\"O(a) vencedor(a) foi {Nome_5} com nota {Nota_5}!\")"
      ],
      "metadata": {
        "colab": {
          "base_uri": "https://localhost:8080/"
        },
        "id": "M5jJsq6xEYan",
        "outputId": "af4b11b7-aa7c-40e0-a950-74e5b752da6b"
      },
      "execution_count": 61,
      "outputs": [
        {
          "output_type": "stream",
          "name": "stdout",
          "text": [
            "Informe nome do 1º participante: 10\n",
            "Informe nota do 1º participante: 10\n",
            "Informe nome do 2º participante: 8\n",
            "Informe nota do 2º participante: 8\n",
            "Informe nome do 3º participante: 5\n",
            "Informe nota do 3º participante: 5\n",
            "Informe nome do 4º participante: 6\n",
            "Informe nota do 4º participante: 6\n",
            "Informe nome do 5º participante: 9\n",
            "Informe nota do 5º participante: 9\n",
            "O(a) vencedor(a) foi 10 com nota 10.0!\n"
          ]
        }
      ]
    }
  ]
}